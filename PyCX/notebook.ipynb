{
 "cells": [
  {
   "cell_type": "markdown",
   "id": "492ea985-6feb-441a-a4f4-4e1f499f119a",
   "metadata": {},
   "source": [
    "### Egne prosjekter"
   ]
  },
  {
   "cell_type": "code",
   "execution_count": null,
   "id": "fa44bad8-27ba-4d4c-95e4-de3c83afa3ce",
   "metadata": {
    "scrolled": true
   },
   "outputs": [
    {
     "name": "stdout",
     "output_type": "stream",
     "text": [
      "Qt5Agg\n",
      "started running\n",
      "started running\n"
     ]
    },
    {
     "name": "stderr",
     "output_type": "stream",
     "text": [
      "Exception in Tkinter callback\n",
      "Traceback (most recent call last):\n",
      "  File \"/usr/lib64/python3.12/tkinter/__init__.py\", line 1968, in __call__\n",
      "    return self.func(*args)\n",
      "           ^^^^^^^^^^^^^^^^\n",
      "  File \"/usr/lib64/python3.12/tkinter/__init__.py\", line 862, in callit\n",
      "    func(*args)\n",
      "  File \"/home/vemund/Documents/koding/PyCX/PyCX/pycxsimulator.py\", line 249, in stepModel\n",
      "    self.modelStepFunc()\n",
      "    ^^^^^^^^^^^^^^^^^^\n",
      "AttributeError: 'GUI' object has no attribute 'modelStepFunc'\n",
      "Exception in Tkinter callback\n",
      "Traceback (most recent call last):\n",
      "  File \"/usr/lib64/python3.12/tkinter/__init__.py\", line 1968, in __call__\n",
      "    return self.func(*args)\n",
      "           ^^^^^^^^^^^^^^^^\n",
      "  File \"/usr/lib64/python3.12/tkinter/__init__.py\", line 862, in callit\n",
      "    func(*args)\n",
      "  File \"/home/vemund/Documents/koding/PyCX/PyCX/pycxsimulator.py\", line 252, in stepModel\n",
      "    self.status.configure(foreground='black')\n",
      "  File \"/usr/lib64/python3.12/tkinter/__init__.py\", line 1722, in configure\n",
      "    return self._configure('configure', cnf, kw)\n",
      "           ^^^^^^^^^^^^^^^^^^^^^^^^^^^^^^^^^^^^^\n",
      "  File \"/usr/lib64/python3.12/tkinter/__init__.py\", line 1712, in _configure\n",
      "    self.tk.call(_flatten((self._w, cmd)) + self._options(cnf))\n",
      "_tkinter.TclError: invalid command name \".!label\"\n"
     ]
    },
    {
     "name": "stdout",
     "output_type": "stream",
     "text": [
      "started running\n"
     ]
    },
    {
     "name": "stderr",
     "output_type": "stream",
     "text": [
      "Exception in Tkinter callback\n",
      "Traceback (most recent call last):\n",
      "  File \"/usr/lib64/python3.12/tkinter/__init__.py\", line 1968, in __call__\n",
      "    return self.func(*args)\n",
      "           ^^^^^^^^^^^^^^^^\n",
      "  File \"/usr/lib64/python3.12/tkinter/__init__.py\", line 862, in callit\n",
      "    func(*args)\n",
      "  File \"/home/vemund/Documents/koding/PyCX/env/lib64/python3.12/site-packages/matplotlib/backends/_backend_tk.py\", line 274, in idle_draw\n",
      "    self.draw()\n",
      "  File \"/home/vemund/Documents/koding/PyCX/env/lib64/python3.12/site-packages/matplotlib/backends/backend_tkagg.py\", line 10, in draw\n",
      "    super().draw()\n",
      "  File \"/home/vemund/Documents/koding/PyCX/env/lib64/python3.12/site-packages/matplotlib/backends/backend_agg.py\", line 382, in draw\n",
      "    self.figure.draw(self.renderer)\n",
      "  File \"/home/vemund/Documents/koding/PyCX/env/lib64/python3.12/site-packages/matplotlib/artist.py\", line 94, in draw_wrapper\n",
      "    result = draw(artist, renderer, *args, **kwargs)\n",
      "             ^^^^^^^^^^^^^^^^^^^^^^^^^^^^^^^^^^^^^^^\n",
      "  File \"/home/vemund/Documents/koding/PyCX/env/lib64/python3.12/site-packages/matplotlib/artist.py\", line 71, in draw_wrapper\n",
      "    return draw(artist, renderer)\n",
      "           ^^^^^^^^^^^^^^^^^^^^^^\n",
      "  File \"/home/vemund/Documents/koding/PyCX/env/lib64/python3.12/site-packages/matplotlib/figure.py\", line 3257, in draw\n",
      "    mimage._draw_list_compositing_images(\n",
      "  File \"/home/vemund/Documents/koding/PyCX/env/lib64/python3.12/site-packages/matplotlib/image.py\", line 134, in _draw_list_compositing_images\n",
      "    a.draw(renderer)\n",
      "  File \"/home/vemund/Documents/koding/PyCX/env/lib64/python3.12/site-packages/matplotlib/artist.py\", line 71, in draw_wrapper\n",
      "    return draw(artist, renderer)\n",
      "           ^^^^^^^^^^^^^^^^^^^^^^\n",
      "  File \"/home/vemund/Documents/koding/PyCX/env/lib64/python3.12/site-packages/matplotlib/axes/_base.py\", line 3181, in draw\n",
      "    mimage._draw_list_compositing_images(\n",
      "  File \"/home/vemund/Documents/koding/PyCX/env/lib64/python3.12/site-packages/matplotlib/image.py\", line 134, in _draw_list_compositing_images\n",
      "    a.draw(renderer)\n",
      "  File \"/home/vemund/Documents/koding/PyCX/env/lib64/python3.12/site-packages/matplotlib/artist.py\", line 71, in draw_wrapper\n",
      "    return draw(artist, renderer)\n",
      "           ^^^^^^^^^^^^^^^^^^^^^^\n",
      "  File \"/home/vemund/Documents/koding/PyCX/env/lib64/python3.12/site-packages/matplotlib/axis.py\", line 1422, in draw\n",
      "    self._update_label_position(renderer)\n",
      "  File \"/home/vemund/Documents/koding/PyCX/env/lib64/python3.12/site-packages/matplotlib/axis.py\", line 2686, in _update_label_position\n",
      "    bboxes, bboxes2 = self._get_tick_boxes_siblings(renderer=renderer)\n",
      "                      ^^^^^^^^^^^^^^^^^^^^^^^^^^^^^^^^^^^^^^^^^^^^^^^^\n",
      "  File \"/home/vemund/Documents/koding/PyCX/env/lib64/python3.12/site-packages/matplotlib/axis.py\", line 2252, in _get_tick_boxes_siblings\n",
      "    tlb, tlb2 = axis._get_ticklabel_bboxes(ticks_to_draw, renderer)\n",
      "                ^^^^^^^^^^^^^^^^^^^^^^^^^^^^^^^^^^^^^^^^^^^^^^^^^^^\n",
      "  File \"/home/vemund/Documents/koding/PyCX/env/lib64/python3.12/site-packages/matplotlib/axis.py\", line 1343, in _get_ticklabel_bboxes\n",
      "    return ([tick.label1.get_window_extent(renderer)\n",
      "             ^^^^^^^^^^^^^^^^^^^^^^^^^^^^^^^^^^^^^^^\n",
      "  File \"/home/vemund/Documents/koding/PyCX/env/lib64/python3.12/site-packages/matplotlib/text.py\", line 972, in get_window_extent\n",
      "    bbox = bbox.translated(x, y)\n",
      "           ^^^^^^^^^^^^^^^^^^^^^\n",
      "  File \"/home/vemund/Documents/koding/PyCX/env/lib64/python3.12/site-packages/matplotlib/transforms.py\", line 618, in translated\n",
      "    return Bbox(self._points + (tx, ty))\n",
      "           ^^^^^^^^^^^^^^^^^^^^^^^^^^^^^\n",
      "  File \"/home/vemund/Documents/koding/PyCX/env/lib64/python3.12/site-packages/matplotlib/transforms.py\", line 749, in __init__\n",
      "    def __init__(self, points, **kwargs):\n",
      "    \n",
      "KeyboardInterrupt\n"
     ]
    }
   ],
   "source": [
    "%run project/main.py"
   ]
  },
  {
   "cell_type": "markdown",
   "id": "28bfed71-dbe5-48da-8474-1003f3023213",
   "metadata": {},
   "source": [
    "notater"
   ]
  },
  {
   "cell_type": "code",
   "execution_count": null,
   "id": "03e37c32-d3d8-49de-9f4a-1700a927fed6",
   "metadata": {},
   "outputs": [],
   "source": [
    "# network"
   ]
  },
  {
   "cell_type": "code",
   "execution_count": 2,
   "id": "7f6efdcd",
   "metadata": {},
   "outputs": [
    {
     "ename": "SyntaxError",
     "evalue": "invalid syntax (945665255.py, line 1)",
     "output_type": "error",
     "traceback": [
      "  \u001b[36mCell\u001b[39m\u001b[36m \u001b[39m\u001b[32mIn[2]\u001b[39m\u001b[32m, line 1\u001b[39m\n\u001b[31m    \u001b[39m\u001b[31msudo apt install qt5-qmake qtbase5-dev qtchooser\u001b[39m\n         ^\n\u001b[31mSyntaxError\u001b[39m\u001b[31m:\u001b[39m invalid syntax\n"
     ]
    }
   ],
   "source": [
    "sudo apt install qt5-qmake qtbase5-dev qtchooser\n"
   ]
  },
  {
   "cell_type": "code",
   "execution_count": 4,
   "id": "1371fd2c",
   "metadata": {},
   "outputs": [
    {
     "name": "stdout",
     "output_type": "stream",
     "text": [
      "3.7.16 (default, Jan 17 2023, 22:20:44) \n",
      "[GCC 11.2.0]\n"
     ]
    }
   ],
   "source": [
    "import sys\n",
    "print(sys.version)\n"
   ]
  },
  {
   "cell_type": "code",
   "execution_count": 1,
   "id": "31b6ce28",
   "metadata": {},
   "outputs": [
    {
     "name": "stdout",
     "output_type": "stream",
     "text": [
      "Collecting PyQt5-sip==12.7.0\n",
      "  Using cached PyQt5_sip-12.7.0.tar.gz (101 kB)\n",
      "  Installing build dependencies ... \u001b[?25ldone\n",
      "\u001b[?25h  Getting requirements to build wheel ... \u001b[?25ldone\n",
      "\u001b[?25h  Preparing metadata (pyproject.toml) ... \u001b[?25ldone\n",
      "\u001b[?25hBuilding wheels for collected packages: PyQt5-sip\n",
      "  Building wheel for PyQt5-sip (pyproject.toml) ... \u001b[?25lerror\n",
      "  \u001b[1;31merror\u001b[0m: \u001b[1msubprocess-exited-with-error\u001b[0m\n",
      "  \n",
      "  \u001b[31m×\u001b[0m \u001b[32mBuilding wheel for PyQt5-sip \u001b[0m\u001b[1;32m(\u001b[0m\u001b[32mpyproject.toml\u001b[0m\u001b[1;32m)\u001b[0m did not run successfully.\n",
      "  \u001b[31m│\u001b[0m exit code: \u001b[1;36m1\u001b[0m\n",
      "  \u001b[31m╰─>\u001b[0m \u001b[31m[43 lines of output]\u001b[0m\n",
      "  \u001b[31m   \u001b[0m running bdist_wheel\n",
      "  \u001b[31m   \u001b[0m running build\n",
      "  \u001b[31m   \u001b[0m running build_ext\n",
      "  \u001b[31m   \u001b[0m building 'PyQt5.sip' extension\n",
      "  \u001b[31m   \u001b[0m creating build/temp.linux-x86_64-cpython-312\n",
      "  \u001b[31m   \u001b[0m gcc -fno-strict-overflow -Wsign-compare -DDYNAMIC_ANNOTATIONS_ENABLED=1 -DNDEBUG -fexceptions -fcf-protection -fexceptions -fcf-protection -fexceptions -fcf-protection -fPIC -I/home/vemund/Documents/koding/PyCX/env/include -I/usr/include/python3.12 -c apiversions.c -o build/temp.linux-x86_64-cpython-312/apiversions.o\n",
      "  \u001b[31m   \u001b[0m gcc -fno-strict-overflow -Wsign-compare -DDYNAMIC_ANNOTATIONS_ENABLED=1 -DNDEBUG -fexceptions -fcf-protection -fexceptions -fcf-protection -fexceptions -fcf-protection -fPIC -I/home/vemund/Documents/koding/PyCX/env/include -I/usr/include/python3.12 -c array.c -o build/temp.linux-x86_64-cpython-312/array.o\n",
      "  \u001b[31m   \u001b[0m g++ -fno-strict-overflow -Wsign-compare -DDYNAMIC_ANNOTATIONS_ENABLED=1 -DNDEBUG -fexceptions -fcf-protection -fexceptions -fcf-protection -fexceptions -fcf-protection -fPIC -I/home/vemund/Documents/koding/PyCX/env/include -I/usr/include/python3.12 -c bool.cpp -o build/temp.linux-x86_64-cpython-312/bool.o\n",
      "  \u001b[31m   \u001b[0m gcc -fno-strict-overflow -Wsign-compare -DDYNAMIC_ANNOTATIONS_ENABLED=1 -DNDEBUG -fexceptions -fcf-protection -fexceptions -fcf-protection -fexceptions -fcf-protection -fPIC -I/home/vemund/Documents/koding/PyCX/env/include -I/usr/include/python3.12 -c descriptors.c -o build/temp.linux-x86_64-cpython-312/descriptors.o\n",
      "  \u001b[31m   \u001b[0m gcc -fno-strict-overflow -Wsign-compare -DDYNAMIC_ANNOTATIONS_ENABLED=1 -DNDEBUG -fexceptions -fcf-protection -fexceptions -fcf-protection -fexceptions -fcf-protection -fPIC -I/home/vemund/Documents/koding/PyCX/env/include -I/usr/include/python3.12 -c int_convertors.c -o build/temp.linux-x86_64-cpython-312/int_convertors.o\n",
      "  \u001b[31m   \u001b[0m gcc -fno-strict-overflow -Wsign-compare -DDYNAMIC_ANNOTATIONS_ENABLED=1 -DNDEBUG -fexceptions -fcf-protection -fexceptions -fcf-protection -fexceptions -fcf-protection -fPIC -I/home/vemund/Documents/koding/PyCX/env/include -I/usr/include/python3.12 -c objmap.c -o build/temp.linux-x86_64-cpython-312/objmap.o\n",
      "  \u001b[31m   \u001b[0m gcc -fno-strict-overflow -Wsign-compare -DDYNAMIC_ANNOTATIONS_ENABLED=1 -DNDEBUG -fexceptions -fcf-protection -fexceptions -fcf-protection -fexceptions -fcf-protection -fPIC -I/home/vemund/Documents/koding/PyCX/env/include -I/usr/include/python3.12 -c qtlib.c -o build/temp.linux-x86_64-cpython-312/qtlib.o\n",
      "  \u001b[31m   \u001b[0m qtlib.c: In function ‘sip_api_invoke_slot_ex’:\n",
      "  \u001b[31m   \u001b[0m qtlib.c:215:9: warning: ‘PyEval_CallObjectWithKeywords’ is deprecated [-Wdeprecated-declarations]\n",
      "  \u001b[31m   \u001b[0m   215 |         if ((resobj = PyEval_CallObject(sfunc, sa)) != NULL)\n",
      "  \u001b[31m   \u001b[0m       |         ^~\n",
      "  \u001b[31m   \u001b[0m In file included from /usr/include/python3.12/Python.h:95,\n",
      "  \u001b[31m   \u001b[0m                  from qtlib.c:21:\n",
      "  \u001b[31m   \u001b[0m /usr/include/python3.12/ceval.h:27:43: note: declared here\n",
      "  \u001b[31m   \u001b[0m    27 | Py_DEPRECATED(3.9) PyAPI_FUNC(PyObject *) PyEval_CallObjectWithKeywords(\n",
      "  \u001b[31m   \u001b[0m       |                                           ^~~~~~~~~~~~~~~~~~~~~~~~~~~~~\n",
      "  \u001b[31m   \u001b[0m gcc -fno-strict-overflow -Wsign-compare -DDYNAMIC_ANNOTATIONS_ENABLED=1 -DNDEBUG -fexceptions -fcf-protection -fexceptions -fcf-protection -fexceptions -fcf-protection -fPIC -I/home/vemund/Documents/koding/PyCX/env/include -I/usr/include/python3.12 -c siplib.c -o build/temp.linux-x86_64-cpython-312/siplib.o\n",
      "  \u001b[31m   \u001b[0m siplib.c: In function ‘sip_init_library’:\n",
      "  \u001b[31m   \u001b[0m siplib.c:1044:5: warning: ‘PyEval_InitThreads’ is deprecated [-Wdeprecated-declarations]\n",
      "  \u001b[31m   \u001b[0m  1044 |     PyEval_InitThreads();\n",
      "  \u001b[31m   \u001b[0m       |     ^~~~~~~~~~~~~~~~~~\n",
      "  \u001b[31m   \u001b[0m In file included from /usr/include/python3.12/Python.h:95,\n",
      "  \u001b[31m   \u001b[0m                  from siplib.c:20:\n",
      "  \u001b[31m   \u001b[0m /usr/include/python3.12/ceval.h:132:37: note: declared here\n",
      "  \u001b[31m   \u001b[0m   132 | Py_DEPRECATED(3.9) PyAPI_FUNC(void) PyEval_InitThreads(void);\n",
      "  \u001b[31m   \u001b[0m       |                                     ^~~~~~~~~~~~~~~~~~\n",
      "  \u001b[31m   \u001b[0m siplib.c: In function ‘call_method’:\n",
      "  \u001b[31m   \u001b[0m siplib.c:2264:9: warning: ‘PyEval_CallObjectWithKeywords’ is deprecated [-Wdeprecated-declarations]\n",
      "  \u001b[31m   \u001b[0m  2264 |         res = PyEval_CallObject(method, args);\n",
      "  \u001b[31m   \u001b[0m       |         ^~~\n",
      "  \u001b[31m   \u001b[0m /usr/include/python3.12/ceval.h:27:43: note: declared here\n",
      "  \u001b[31m   \u001b[0m    27 | Py_DEPRECATED(3.9) PyAPI_FUNC(PyObject *) PyEval_CallObjectWithKeywords(\n",
      "  \u001b[31m   \u001b[0m       |                                           ^~~~~~~~~~~~~~~~~~~~~~~~~~~~~\n",
      "  \u001b[31m   \u001b[0m siplib.c: In function ‘sip_api_get_frame’:\n",
      "  \u001b[31m   \u001b[0m siplib.c:12701:22: error: invalid use of undefined type ‘struct _frame’\n",
      "  \u001b[31m   \u001b[0m 12701 |         frame = frame->f_back;\n",
      "  \u001b[31m   \u001b[0m       |                      ^~\n",
      "  \u001b[31m   \u001b[0m error: command '/usr/bin/gcc' failed with exit code 1\n",
      "  \u001b[31m   \u001b[0m \u001b[31m[end of output]\u001b[0m\n",
      "  \n",
      "  \u001b[1;35mnote\u001b[0m: This error originates from a subprocess, and is likely not a problem with pip.\n",
      "\u001b[31m  ERROR: Failed building wheel for PyQt5-sip\u001b[0m\u001b[31m\n",
      "\u001b[0m\u001b[?25hFailed to build PyQt5-sip\n",
      "\u001b[31mERROR: Could not build wheels for PyQt5-sip, which is required to install pyproject.toml-based projects\u001b[0m\u001b[31m\n",
      "\u001b[0m\n",
      "\u001b[1m[\u001b[0m\u001b[34;49mnotice\u001b[0m\u001b[1;39;49m]\u001b[0m\u001b[39;49m A new release of pip is available: \u001b[0m\u001b[31;49m23.3.2\u001b[0m\u001b[39;49m -> \u001b[0m\u001b[32;49m25.0.1\u001b[0m\n",
      "\u001b[1m[\u001b[0m\u001b[34;49mnotice\u001b[0m\u001b[1;39;49m]\u001b[0m\u001b[39;49m To update, run: \u001b[0m\u001b[32;49mpip install --upgrade pip\u001b[0m\n",
      "Note: you may need to restart the kernel to use updated packages.\n"
     ]
    }
   ],
   "source": [
    "pip install \"PyQt5-sip==12.7.0\""
   ]
  },
  {
   "cell_type": "code",
   "execution_count": 4,
   "id": "6e32e78a",
   "metadata": {},
   "outputs": [
    {
     "name": "stdout",
     "output_type": "stream",
     "text": [
      "Collecting PyQt5==5.13.1\n",
      "  Using cached PyQt5-5.13.1-5.13.1-cp35.cp36.cp37.cp38-abi3-manylinux1_x86_64.whl.metadata (2.2 kB)\n",
      "Collecting PyQt5_sip<13,>=4.19.19 (from PyQt5==5.13.1)\n",
      "  Downloading PyQt5_sip-12.17.0-cp312-cp312-manylinux_2_5_x86_64.manylinux1_x86_64.whl.metadata (472 bytes)\n",
      "Using cached PyQt5-5.13.1-5.13.1-cp35.cp36.cp37.cp38-abi3-manylinux1_x86_64.whl (62.1 MB)\n",
      "Downloading PyQt5_sip-12.17.0-cp312-cp312-manylinux_2_5_x86_64.manylinux1_x86_64.whl (281 kB)\n",
      "\u001b[2K   \u001b[38;2;114;156;31m━━━━━━━━━━━━━━━━━━━━━━━━━━━━━━━━━━━━━━━\u001b[0m \u001b[32m281.9/281.9 kB\u001b[0m \u001b[31m848.0 kB/s\u001b[0m eta \u001b[36m0:00:00\u001b[0m kB/s\u001b[0m eta \u001b[36m0:00:01\u001b[0m:01\u001b[0m\n",
      "\u001b[?25hInstalling collected packages: PyQt5_sip, PyQt5\n",
      "Successfully installed PyQt5-5.13.1 PyQt5_sip-12.17.0\n",
      "\n",
      "\u001b[1m[\u001b[0m\u001b[34;49mnotice\u001b[0m\u001b[1;39;49m]\u001b[0m\u001b[39;49m A new release of pip is available: \u001b[0m\u001b[31;49m23.3.2\u001b[0m\u001b[39;49m -> \u001b[0m\u001b[32;49m25.0.1\u001b[0m\n",
      "\u001b[1m[\u001b[0m\u001b[34;49mnotice\u001b[0m\u001b[1;39;49m]\u001b[0m\u001b[39;49m To update, run: \u001b[0m\u001b[32;49mpip install --upgrade pip\u001b[0m\n",
      "Note: you may need to restart the kernel to use updated packages.\n"
     ]
    }
   ],
   "source": [
    "pip install \"PyQt5==5.13.1\""
   ]
  },
  {
   "cell_type": "code",
   "execution_count": null,
   "id": "5d2eba0b-6514-4797-b558-86a27c94c764",
   "metadata": {},
   "outputs": [],
   "source": []
  }
 ],
 "metadata": {
  "kernelspec": {
   "display_name": "Python 3 (ipykernel)",
   "language": "python",
   "name": "python3"
  },
  "language_info": {
   "codemirror_mode": {
    "name": "ipython",
    "version": 3
   },
   "file_extension": ".py",
   "mimetype": "text/x-python",
   "name": "python",
   "nbconvert_exporter": "python",
   "pygments_lexer": "ipython3",
   "version": "3.12.9"
  }
 },
 "nbformat": 4,
 "nbformat_minor": 5
}
